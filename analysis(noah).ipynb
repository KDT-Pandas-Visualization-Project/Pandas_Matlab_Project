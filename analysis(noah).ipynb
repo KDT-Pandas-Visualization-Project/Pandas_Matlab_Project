{
 "cells": [
  {
   "cell_type": "markdown",
   "metadata": {},
   "source": [
    "명노아\n",
    "\n",
    "1. \"Anime-dataset-2023.csv\"를 활용하여 제작사(Producers) 마다 만들어내는 장르(Genres) 와 애니메이션의 소스 자료(Source) 분석 -> 파이차트로 시각화, Bar of pie를 사용하여 제작사가 만든 장르를 확대하여 인기작품 나열  \n",
    "사용 컬럼 : Other name, Score, Genres(전처리 필요), Producers, Source  <hr>\n",
    "\n",
    "2.  \"Anime-dataset-2023.csv\"를 활용하여 오타쿠 세대를 6개로 분류하여, 세대별 유명했던 애니메이션(Score, Aired) 종류 및 장르 분석 하여 세대별 TOP5 작품 뽑아내기  \n",
    "-> Bar chart on polar axis로 시각화 및  Grouped bar chart with labels로 시각화  \n",
    "사용 컬럼 : Aired(전처리 및 열 추가작업 필요), Score, Genres(전처리 필요)  <hr> \n",
    "\n",
    "3.  \"Anime-dataset-2023.csv\",\"user-details-2023.csv\",\"user-score-2023.csv\"를 사용하여 연령 등급(Rating)별 남녀 시청 비율 및 남녀별 등급 부여 차이 분석\n",
    "-> plot ,Bar chart with gradients 으로 시각화  \n",
    "사용 컬럼 :   \n",
    "   Anime-dataset-2023.csv : Rating, anime_id  \n",
    "   user-details-2023.csv : Gender, Username  \n",
    "   user-score-2023.csv : Username, anime_id, rating  <hr>"
   ]
  },
  {
   "cell_type": "code",
   "execution_count": 1,
   "metadata": {},
   "outputs": [],
   "source": [
    "import pandas as pd # 판다스 모듈 갖고오기\n",
    "import numpy as np # 넘피 모듈 갖고오기\n",
    "import matplotlib.pyplot as plt # pyplot 모듈 갖고오기\n",
    "import matplotlib as mpl # matplotlib 패키지 갖고오기\n",
    "import matplotlib.font_manager as fm # font_manager 갖고오기\n",
    "import datetime as dt # datatime 모듈 갖고오기\n",
    "\n",
    "import SampleData as d # SampleData.py의 변수 사용\n",
    "\n",
    "\n",
    "font_path=r'c:\\WINDOWS\\Fonts\\H2MJRE.TTF' # 한글 출력 설정\n",
    "myFont=fm.FontProperties(fname=font_path).get_name()\n",
    "mpl.rc('font',family=myFont)"
   ]
  },
  {
   "cell_type": "code",
   "execution_count": 2,
   "metadata": {},
   "outputs": [
    {
     "name": "stdout",
     "output_type": "stream",
     "text": [
      "hello\n"
     ]
    }
   ],
   "source": [
    "print(\"hello\")"
   ]
  },
  {
   "cell_type": "code",
   "execution_count": null,
   "metadata": {},
   "outputs": [],
   "source": []
  }
 ],
 "metadata": {
  "kernelspec": {
   "display_name": "My_38",
   "language": "python",
   "name": "python3"
  },
  "language_info": {
   "codemirror_mode": {
    "name": "ipython",
    "version": 3
   },
   "file_extension": ".py",
   "mimetype": "text/x-python",
   "name": "python",
   "nbconvert_exporter": "python",
   "pygments_lexer": "ipython3",
   "version": "3.8.18"
  }
 },
 "nbformat": 4,
 "nbformat_minor": 2
}
