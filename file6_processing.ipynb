{
 "cells": [
  {
   "cell_type": "code",
   "execution_count": 14,
   "id": "2f936763-a32c-4211-9700-792490860e1d",
   "metadata": {},
   "outputs": [],
   "source": [
    "import pandas as pd\n",
    "import numpy as np"
   ]
  },
  {
   "cell_type": "code",
   "execution_count": 15,
   "id": "2071ee77-5fd9-4cc1-97c6-22931e63aec2",
   "metadata": {},
   "outputs": [],
   "source": [
    "users_details_DF = pd.read_csv(r\"..\\Data\\users-details-2023.csv\") # user_details로 나중에 바꾸"
   ]
  },
  {
   "cell_type": "code",
   "execution_count": 16,
   "id": "4dfee059-8970-4c77-9980-ac63a1a55134",
   "metadata": {},
   "outputs": [
    {
     "name": "stdout",
     "output_type": "stream",
     "text": [
      "<class 'pandas.core.frame.DataFrame'>\n",
      "RangeIndex: 731290 entries, 0 to 731289\n",
      "Data columns (total 16 columns):\n",
      " #   Column            Non-Null Count   Dtype  \n",
      "---  ------            --------------   -----  \n",
      " 0   Mal ID            731290 non-null  int64  \n",
      " 1   Username          731290 non-null  object \n",
      " 2   Gender            224383 non-null  object \n",
      " 3   Birthday          168068 non-null  object \n",
      " 4   Location          152806 non-null  object \n",
      " 5   Joined            731290 non-null  object \n",
      " 6   Days Watched      731282 non-null  float64\n",
      " 7   Mean Score        731282 non-null  float64\n",
      " 8   Watching          731282 non-null  float64\n",
      " 9   Completed         731282 non-null  float64\n",
      " 10  On Hold           731282 non-null  float64\n",
      " 11  Dropped           731282 non-null  float64\n",
      " 12  Plan to Watch     731282 non-null  float64\n",
      " 13  Total Entries     731282 non-null  float64\n",
      " 14  Rewatched         731282 non-null  float64\n",
      " 15  Episodes Watched  731282 non-null  float64\n",
      "dtypes: float64(10), int64(1), object(5)\n",
      "memory usage: 89.3+ MB\n"
     ]
    }
   ],
   "source": [
    "users_details_DF.info()"
   ]
  },
  {
   "cell_type": "code",
   "execution_count": 17,
   "id": "09a3234d-4fc6-48a7-8aae-760b4d49c46b",
   "metadata": {},
   "outputs": [],
   "source": [
    "users_details_DF = users_details_DF.drop([\"Birthday\", \"Joined\", \"Days Watched\", \"Watching\", \"On Hold\", \"Dropped\", \"Plan to Watch\", \"Rewatched\", \"Episodes Watched\"], axis = 1)"
   ]
  },
  {
   "cell_type": "code",
   "execution_count": 18,
   "id": "33363f0e-f5e9-4668-a388-d7c9d8fd7369",
   "metadata": {},
   "outputs": [],
   "source": [
    "users_details_DF[[\"Mean Score\", \"Completed\", \"Total Entries\"]] = users_details_DF[[\"Mean Score\", \"Completed\", \"Total Entries\"]].fillna(0)"
   ]
  },
  {
   "cell_type": "code",
   "execution_count": 19,
   "id": "210f0034-9f84-410c-a6b2-d6552cda9e3e",
   "metadata": {},
   "outputs": [],
   "source": [
    "users_details_DF[\"Username\"] = users_details_DF[\"Username\"].fillna(\"user\")"
   ]
  },
  {
   "cell_type": "code",
   "execution_count": 20,
   "id": "496fb97b-360d-41de-bb51-2315b182fc24",
   "metadata": {},
   "outputs": [],
   "source": [
    "users_details_DF[\"Gender\"] = users_details_DF[\"Gender\"].fillna(\"Non-Binary\")"
   ]
  },
  {
   "cell_type": "code",
   "execution_count": 21,
   "id": "00683b39-7475-4a96-bcb0-e43b7b520d15",
   "metadata": {},
   "outputs": [],
   "source": [
    "users_details_DF.rename({\"Mal ID\":\"user_id\"}, inplace = True, axis=True)"
   ]
  },
  {
   "cell_type": "code",
   "execution_count": 22,
   "id": "a2070cac-1d59-424b-8024-222c17ebe249",
   "metadata": {},
   "outputs": [],
   "source": [
    "# 형변환 \n",
    "# Gender -> \"category\"\n",
    "# Mean Score -> \"float32\"\n",
    "# Total Entries -> \"int64\"\n",
    "users_details_DF[\"Total Entries\"] = users_details_DF[\"Total Entries\"].astype(\"int64\")\n",
    "users_details_DF[\"Mean Score\"] = users_details_DF[\"Mean Score\"].astype(\"float32\")\n",
    "users_details_DF[\"Gender\"] = users_details_DF[\"Gender\"].astype(\"category\")"
   ]
  },
  {
   "cell_type": "code",
   "execution_count": 23,
   "id": "e56cb57b-5dd3-4011-aa06-9247b2c0ad5c",
   "metadata": {},
   "outputs": [
    {
     "name": "stdout",
     "output_type": "stream",
     "text": [
      "<class 'pandas.core.frame.DataFrame'>\n",
      "RangeIndex: 731290 entries, 0 to 731289\n",
      "Data columns (total 7 columns):\n",
      " #   Column         Non-Null Count   Dtype   \n",
      "---  ------         --------------   -----   \n",
      " 0   user_id        731290 non-null  int64   \n",
      " 1   Username       731290 non-null  object  \n",
      " 2   Gender         731290 non-null  category\n",
      " 3   Location       152806 non-null  object  \n",
      " 4   Mean Score     731290 non-null  float32 \n",
      " 5   Completed      731290 non-null  float64 \n",
      " 6   Total Entries  731290 non-null  int64   \n",
      "dtypes: category(1), float32(1), float64(1), int64(2), object(2)\n",
      "memory usage: 31.4+ MB\n"
     ]
    }
   ],
   "source": [
    "users_details_DF.info()"
   ]
  },
  {
   "cell_type": "code",
   "execution_count": null,
   "id": "9ebdd2e9-3bf8-4bc9-b129-6eee28b501ef",
   "metadata": {},
   "outputs": [],
   "source": []
  }
 ],
 "metadata": {
  "kernelspec": {
   "display_name": "Python 3 (ipykernel)",
   "language": "python",
   "name": "python3"
  },
  "language_info": {
   "codemirror_mode": {
    "name": "ipython",
    "version": 3
   },
   "file_extension": ".py",
   "mimetype": "text/x-python",
   "name": "python",
   "nbconvert_exporter": "python",
   "pygments_lexer": "ipython3",
   "version": "3.8.18"
  }
 },
 "nbformat": 4,
 "nbformat_minor": 5
}
