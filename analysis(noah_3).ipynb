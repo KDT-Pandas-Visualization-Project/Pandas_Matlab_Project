{
 "cells": [
  {
   "cell_type": "code",
   "execution_count": 1,
   "metadata": {},
   "outputs": [],
   "source": [
    "# 3.\n",
    "#  \"Anime-dataset-2023.csv\",\"user-details-2023.csv\",\"user-score-2023.csv\"를 사용하여 연령 등급(Rating)별 장르 분석\n",
    "# -> plot ,Bar chart with gradients 으로 시각화  \n",
    "# 사용 컬럼 :   \n",
    "#    Anime-dataset-2023.csv : Rating, anime_id  \n",
    "#    user-details-2023.csv : Gender, Username  \n",
    "#    user-score-2023.csv : Username, anime_id, rating  "
   ]
  },
  {
   "cell_type": "code",
   "execution_count": null,
   "metadata": {},
   "outputs": [],
   "source": []
  }
 ],
 "metadata": {
  "kernelspec": {
   "display_name": "My_38",
   "language": "python",
   "name": "python3"
  },
  "language_info": {
   "codemirror_mode": {
    "name": "ipython",
    "version": 3
   },
   "file_extension": ".py",
   "mimetype": "text/x-python",
   "name": "python",
   "nbconvert_exporter": "python",
   "pygments_lexer": "ipython3",
   "version": "3.8.18"
  }
 },
 "nbformat": 4,
 "nbformat_minor": 2
}
