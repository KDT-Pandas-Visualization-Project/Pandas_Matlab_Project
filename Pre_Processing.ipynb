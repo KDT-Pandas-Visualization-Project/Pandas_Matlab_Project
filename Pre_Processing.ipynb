{
 "cells": [
  {
   "cell_type": "code",
   "execution_count": 2,
   "metadata": {},
   "outputs": [],
   "source": [
    "import pandas as pd # 판다스 모듈 갖고오기\n",
    "import numpy as np # 넘피 모듈 갖고오기\n",
    "import matplotlib.pyplot as plt # pyplot 모듈 갖고오기\n",
    "import matplotlib as mpl # matplotlib 패키지 갖고오기\n",
    "import matplotlib.font_manager as fm # font_manager 갖고오기\n",
    "import datetime as dt # datatime 모듈 갖고오기\n",
    "\n",
    "import SampleData as d # SampleData.py의 변수 사용\n",
    "\n",
    "\n",
    "font_path=r'c:\\WINDOWS\\Fonts\\H2MJRE.TTF' # 한글 출력 설정\n",
    "myFont=fm.FontProperties(fname=font_path).get_name()\n",
    "mpl.rc('font',family=myFont)"
   ]
  },
  {
   "cell_type": "code",
   "execution_count": 6,
   "metadata": {},
   "outputs": [
    {
     "data": {
      "text/plain": [
       "Index(['Comedy', 'Fantasy', 'UNKNOWN', 'Action', 'Adventure', 'Sci-Fi',\n",
       "       'Drama', 'Romance', 'Slice of Life', 'Supernatural', 'Hentai',\n",
       "       'Mystery', 'Avant Garde', 'Ecchi', 'Sports', 'Horror', 'Suspense',\n",
       "       'Award Winning', 'Boys Love', 'Gourmet', 'Girls Love', 'Erotica'],\n",
       "      dtype='object', name='Genres')"
      ]
     },
     "execution_count": 6,
     "metadata": {},
     "output_type": "execute_result"
    }
   ],
   "source": [
    "d.Genre"
   ]
  },
  {
   "cell_type": "code",
   "execution_count": 16,
   "metadata": {},
   "outputs": [
    {
     "data": {
      "text/plain": [
       "0    7.37\n",
       "Name: Mean Score, dtype: float64"
      ]
     },
     "execution_count": 16,
     "metadata": {},
     "output_type": "execute_result"
    }
   ],
   "source": [
    "d.user_details.loc[d.user_details[\"Username\"]==\"Xinil\"][\"Mean Score\"]"
   ]
  },
  {
   "cell_type": "code",
   "execution_count": 19,
   "metadata": {},
   "outputs": [
    {
     "data": {
      "text/html": [
       "<div>\n",
       "<style scoped>\n",
       "    .dataframe tbody tr th:only-of-type {\n",
       "        vertical-align: middle;\n",
       "    }\n",
       "\n",
       "    .dataframe tbody tr th {\n",
       "        vertical-align: top;\n",
       "    }\n",
       "\n",
       "    .dataframe thead th {\n",
       "        text-align: right;\n",
       "    }\n",
       "</style>\n",
       "<table border=\"1\" class=\"dataframe\">\n",
       "  <thead>\n",
       "    <tr style=\"text-align: right;\">\n",
       "      <th></th>\n",
       "      <th>user_id</th>\n",
       "      <th>Username</th>\n",
       "      <th>anime_id</th>\n",
       "      <th>Anime Title</th>\n",
       "      <th>rating</th>\n",
       "    </tr>\n",
       "  </thead>\n",
       "  <tbody>\n",
       "    <tr>\n",
       "      <th>0</th>\n",
       "      <td>1</td>\n",
       "      <td>Xinil</td>\n",
       "      <td>21</td>\n",
       "      <td>One Piece</td>\n",
       "      <td>9</td>\n",
       "    </tr>\n",
       "  </tbody>\n",
       "</table>\n",
       "</div>"
      ],
      "text/plain": [
       "   user_id Username  anime_id Anime Title  rating\n",
       "0        1    Xinil        21   One Piece       9"
      ]
     },
     "execution_count": 19,
     "metadata": {},
     "output_type": "execute_result"
    }
   ],
   "source": [
    "d.user_score.head(1)"
   ]
  },
  {
   "cell_type": "code",
   "execution_count": 24,
   "metadata": {},
   "outputs": [
    {
     "data": {
      "text/plain": [
       "rating\n",
       "8     6060484\n",
       "7     5452152\n",
       "9     4429914\n",
       "10    3210021\n",
       "6     2766482\n",
       "5     1379480\n",
       "4      562822\n",
       "3      233675\n",
       "2      132092\n",
       "1       98069\n",
       "Name: count, dtype: int64"
      ]
     },
     "execution_count": 24,
     "metadata": {},
     "output_type": "execute_result"
    }
   ],
   "source": [
    "d.user_score[\"rating\"].value_counts()"
   ]
  },
  {
   "cell_type": "code",
   "execution_count": 2,
   "metadata": {},
   "outputs": [
    {
     "data": {
      "text/html": [
       "<div>\n",
       "<style scoped>\n",
       "    .dataframe tbody tr th:only-of-type {\n",
       "        vertical-align: middle;\n",
       "    }\n",
       "\n",
       "    .dataframe tbody tr th {\n",
       "        vertical-align: top;\n",
       "    }\n",
       "\n",
       "    .dataframe thead th {\n",
       "        text-align: right;\n",
       "    }\n",
       "</style>\n",
       "<table border=\"1\" class=\"dataframe\">\n",
       "  <thead>\n",
       "    <tr style=\"text-align: right;\">\n",
       "      <th></th>\n",
       "      <th>anime_id</th>\n",
       "      <th>Name</th>\n",
       "      <th>English name</th>\n",
       "      <th>Other name</th>\n",
       "      <th>Score</th>\n",
       "      <th>Genres</th>\n",
       "      <th>Synopsis</th>\n",
       "      <th>Type</th>\n",
       "      <th>Episodes</th>\n",
       "      <th>Status</th>\n",
       "      <th>...</th>\n",
       "      <th>Rating</th>\n",
       "      <th>Rank</th>\n",
       "      <th>Popularity</th>\n",
       "      <th>Favorites</th>\n",
       "      <th>Scored By</th>\n",
       "      <th>Members</th>\n",
       "      <th>Image URL</th>\n",
       "      <th>Start_date</th>\n",
       "      <th>End_date</th>\n",
       "      <th>Aired_Duration</th>\n",
       "    </tr>\n",
       "  </thead>\n",
       "  <tbody>\n",
       "    <tr>\n",
       "      <th>0</th>\n",
       "      <td>1</td>\n",
       "      <td>Cowboy Bebop</td>\n",
       "      <td>Cowboy Bebop</td>\n",
       "      <td>カウボーイビバップ</td>\n",
       "      <td>8.75</td>\n",
       "      <td>Action, Award Winning, Sci-Fi</td>\n",
       "      <td>Crime is timeless. By the year 2071, humanity ...</td>\n",
       "      <td>TV</td>\n",
       "      <td>26</td>\n",
       "      <td>Finished Airing</td>\n",
       "      <td>...</td>\n",
       "      <td>R - 17+ (violence &amp; profanity)</td>\n",
       "      <td>41</td>\n",
       "      <td>43</td>\n",
       "      <td>78525</td>\n",
       "      <td>17</td>\n",
       "      <td>1771505</td>\n",
       "      <td>https://cdn.myanimelist.net/images/anime/4/196...</td>\n",
       "      <td>1998-04-03</td>\n",
       "      <td>1999-04-24</td>\n",
       "      <td>386 days</td>\n",
       "    </tr>\n",
       "  </tbody>\n",
       "</table>\n",
       "<p>1 rows × 25 columns</p>\n",
       "</div>"
      ],
      "text/plain": [
       "   anime_id          Name  English name Other name  Score  \\\n",
       "0         1  Cowboy Bebop  Cowboy Bebop  カウボーイビバップ   8.75   \n",
       "\n",
       "                          Genres  \\\n",
       "0  Action, Award Winning, Sci-Fi   \n",
       "\n",
       "                                            Synopsis Type  Episodes  \\\n",
       "0  Crime is timeless. By the year 2071, humanity ...   TV        26   \n",
       "\n",
       "            Status  ...                          Rating Rank Popularity  \\\n",
       "0  Finished Airing  ...  R - 17+ (violence & profanity)   41         43   \n",
       "\n",
       "  Favorites Scored By  Members  \\\n",
       "0     78525        17  1771505   \n",
       "\n",
       "                                           Image URL  Start_date   End_date  \\\n",
       "0  https://cdn.myanimelist.net/images/anime/4/196...  1998-04-03 1999-04-24   \n",
       "\n",
       "   Aired_Duration  \n",
       "0        386 days  \n",
       "\n",
       "[1 rows x 25 columns]"
      ]
     },
     "execution_count": 2,
     "metadata": {},
     "output_type": "execute_result"
    }
   ],
   "source": [
    "d.anime.head(1)"
   ]
  },
  {
   "cell_type": "code",
   "execution_count": 3,
   "metadata": {},
   "outputs": [
    {
     "data": {
      "text/plain": [
       "Index(['UNKNOWN', 'Toei Animation', 'Sunrise', 'J.C.Staff', 'Madhouse',\n",
       "       'Production I.G', 'TMS Entertainment', 'Shanghai Animation Film Studio',\n",
       "       'Studio Deen', 'OLM',\n",
       "       ...\n",
       "       'Karasfilms', 'Tsukimidou', 'Ultra Super Pictures', 'TOCSIS',\n",
       "       'Will Palette', 'Studio Ppuri', 'Ripromo', 'Ekura Animal',\n",
       "       'AIC Project', 'Youku'],\n",
       "      dtype='object', name='Studios', length=1044)"
      ]
     },
     "execution_count": 3,
     "metadata": {},
     "output_type": "execute_result"
    }
   ],
   "source": [
    "d.Studios"
   ]
  },
  {
   "cell_type": "code",
   "execution_count": 4,
   "metadata": {},
   "outputs": [
    {
     "data": {
      "text/plain": [
       "['Comedy',\n",
       " 'Fantasy',\n",
       " 'UNKNOWN',\n",
       " 'Action',\n",
       " 'Adventure',\n",
       " 'Sci-Fi',\n",
       " 'Drama',\n",
       " 'Romance',\n",
       " 'Slice of Life',\n",
       " 'Supernatural',\n",
       " 'Hentai',\n",
       " 'Mystery',\n",
       " 'Avant Garde',\n",
       " 'Ecchi',\n",
       " 'Sports',\n",
       " 'Horror',\n",
       " 'Suspense',\n",
       " 'Award Winning',\n",
       " 'Boys Love',\n",
       " 'Gourmet',\n",
       " 'Girls Love',\n",
       " 'Erotica']"
      ]
     },
     "execution_count": 4,
     "metadata": {},
     "output_type": "execute_result"
    }
   ],
   "source": [
    "list(d.Genre)"
   ]
  },
  {
   "cell_type": "code",
   "execution_count": null,
   "metadata": {},
   "outputs": [],
   "source": []
  }
 ],
 "metadata": {
  "kernelspec": {
   "display_name": "My_38",
   "language": "python",
   "name": "python3"
  },
  "language_info": {
   "codemirror_mode": {
    "name": "ipython",
    "version": 3
   },
   "file_extension": ".py",
   "mimetype": "text/x-python",
   "name": "python",
   "nbconvert_exporter": "python",
   "pygments_lexer": "ipython3",
   "version": "3.8.18"
  }
 },
 "nbformat": 4,
 "nbformat_minor": 2
}
